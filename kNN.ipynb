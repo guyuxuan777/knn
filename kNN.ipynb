{
 "cells": [
  {
   "cell_type": "code",
   "execution_count": 1,
   "metadata": {},
   "outputs": [],
   "source": [
    "import numpy as np\n",
    "import pandas as pd\n",
    "import matplotlib.pyplot as plt\n",
    "from kNNalg import KNNalgo\n"
   ]
  },
  {
   "cell_type": "code",
   "execution_count": 2,
   "metadata": {},
   "outputs": [],
   "source": [
    "df=pd.read_csv('F:\\kNN\\satisfaction_data.csv')\n",
    "df.head()\n",
    "data = np.loadtxt(open(\"F:\\kNN\\satisfaction_data2.csv\",\"rb\"),delimiter=\",\",skiprows=0)\n",
    "\n"
   ]
  },
  {
   "cell_type": "code",
   "execution_count": 3,
   "metadata": {},
   "outputs": [],
   "source": [
    "X=df[[\"a\", \"b\",\"c\",\"d\",\"e\",\"f\"]]\n",
    "Y=df[[\"g\"]]\n"
   ]
  },
  {
   "cell_type": "code",
   "execution_count": 4,
   "metadata": {},
   "outputs": [],
   "source": [
    "data=df.values\n",
    "data1=data[:,:6]\n",
    "data2=data[:,6:7]\n",
    "list1=data1.tolist()\n",
    "list2=data2.tolist()"
   ]
  },
  {
   "cell_type": "code",
   "execution_count": 5,
   "metadata": {},
   "outputs": [],
   "source": [
    "def trainTestSplit(X,test_size=0.1):\n",
    "    X_num=X.shape[0]\n",
    "    train_index=list(range(X_num))\n",
    "    test_index=[]\n",
    "    test_num=int(X_num*test_size)\n",
    "    for i in range(test_num):\n",
    "        randomIndex=int(np.random.uniform(0,len(train_index)))\n",
    "        test_index.append(train_index[randomIndex])\n",
    "        del train_index[randomIndex]\n",
    "    X_train=X[train_index] \n",
    "    x_test=X[test_index]\n",
    "    return X_train,x_test\n"
   ]
  },
  {
   "cell_type": "code",
   "execution_count": 6,
   "metadata": {},
   "outputs": [
    {
     "data": {
      "text/plain": [
       "(18000, 7)"
      ]
     },
     "execution_count": 6,
     "metadata": {},
     "output_type": "execute_result"
    }
   ],
   "source": [
    "train,test=trainTestSplit(data,test_size=0.1)\n",
    "train.shape"
   ]
  },
  {
   "cell_type": "code",
   "execution_count": 7,
   "metadata": {},
   "outputs": [
    {
     "data": {
      "text/plain": [
       "6"
      ]
     },
     "execution_count": 7,
     "metadata": {},
     "output_type": "execute_result"
    }
   ],
   "source": [
    "x_train, x_test = trainTestSplit(data1,test_size=0.1)\n",
    "y_train, y_test = trainTestSplit(data2,test_size=0.1)\n",
    "x_train.shape[1]"
   ]
  },
  {
   "cell_type": "code",
   "execution_count": 8,
   "metadata": {},
   "outputs": [
    {
     "name": "stdout",
     "output_type": "stream",
     "text": [
      "accuary:0.735500\n",
      "[[0]\n",
      " [0]\n",
      " [0]\n",
      " ...\n",
      " [0]\n",
      " [0]\n",
      " [0]]\n",
      "0.7355\n"
     ]
    }
   ],
   "source": [
    "jinlin=KNNalgo(5)\n",
    "jinlin.fit(x_test,y_test)\n",
    "predict=jinlin.result(x_test)\n",
    "accuracy=jinlin.evaluate(x_test,y_test)\n",
    "print(predict)\n",
    "print(accuracy)"
   ]
  },
  {
   "cell_type": "code",
   "execution_count": 10,
   "metadata": {},
   "outputs": [
    {
     "data": {
      "text/plain": [
       "array([0], dtype=int64)"
      ]
     },
     "execution_count": 10,
     "metadata": {},
     "output_type": "execute_result"
    }
   ],
   "source": [
    "input=[[28,1,2,92345,16,17]]\n",
    "jinlin.predict1(input)"
   ]
  },
  {
   "cell_type": "code",
   "execution_count": 11,
   "metadata": {},
   "outputs": [
    {
     "data": {
      "text/plain": [
       "[<matplotlib.lines.Line2D at 0x24cfc908d00>]"
      ]
     },
     "execution_count": 11,
     "metadata": {},
     "output_type": "execute_result"
    },
    {
     "data": {
      "image/png": "[encoded data removed]",
      "text/plain": [
       "<Figure size 432x288 with 1 Axes>"
      ]
     },
     "metadata": {
      "needs_background": "light"
     },
     "output_type": "display_data"
    }
   ],
   "source": [
    "x_data=[3,5,7,9,11,13,15,17,19,21,23,25,27,29]\n",
    "y_data=[0.7725,0.7275,0.711,0.6925,0.69,0.6805,0.676,0.6745,0.6665,0.665,0.667,0.666,0.66,0.66]\n",
    "plt.title('Test')\n",
    "plt.xlabel('The number of neighborhood')\n",
    "plt.ylabel('performance')\n",
    "plt.plot(x_data,y_data)"
   ]
  }
 ],
 "metadata": {
  "interpreter": {
   "hash": "47e86d731e077963188d400b641a1f5cee6401b89b8a1175acb1a082248e2517"
  },
  "kernelspec": {
   "display_name": "Python 3.9.10 64-bit",
   "language": "python",
   "name": "python3"
  },
  "language_info": {
   "codemirror_mode": {
    "name": "ipython",
    "version": 3
   },
   "file_extension": ".py",
   "mimetype": "text/x-python",
   "name": "python",
   "nbconvert_exporter": "python",
   "pygments_lexer": "ipython3",
   "version": "3.9.10"
  },
  "orig_nbformat": 4
 },
 "nbformat": 4,
 "nbformat_minor": 2
}
